{
 "cells": [
  {
   "cell_type": "code",
   "execution_count": 3,
   "id": "5e5ec491-5799-4770-95ac-a54ffa04242c",
   "metadata": {},
   "outputs": [
    {
     "name": "stdin",
     "output_type": "stream",
     "text": [
      "Enter the account holder's name:  sar\n",
      "Enter the initial balance:  1000\n"
     ]
    },
    {
     "name": "stdout",
     "output_type": "stream",
     "text": [
      "Account created for sar with balance $1000.00.\n",
      "\n",
      "Choose an option:\n",
      "1. Deposit Money\n",
      "2. Withdraw Money\n",
      "3. Check balance\n",
      "4. Print Statement\n",
      "5. Exit\n"
     ]
    },
    {
     "name": "stdin",
     "output_type": "stream",
     "text": [
      "Enter your choice:  5\n"
     ]
    },
    {
     "name": "stdout",
     "output_type": "stream",
     "text": [
      "Exiting the program. Have a great day!\n"
     ]
    }
   ],
   "source": [
    "# Banking System Using Functional Programming\n",
    "\n",
    "import os\n",
    "\n",
    "# File to store Transs\n",
    "Trans_FILE = \"Transs.txt\"\n",
    "\n",
    "# Function to initialize an account\n",
    "def create_account():\n",
    "    name = input(\"Enter the account holder's name: \")\n",
    "    initial_balance = float(input(\"Enter the initial balance: \"))\n",
    "    print(f\"Account created for {name} with balance ${initial_balance:.2f}.\")\n",
    "    return {\n",
    "        \"name\": name,\n",
    "        \"balance\": initial_balance,\n",
    "        \"Transs\": []\n",
    "    }\n",
    "\n",
    "# Function to record a Trans to a file\n",
    "def record_Trans(Trans):\n",
    "    with open(Trans_FILE, \"a\") as file:\n",
    "        file.write(Trans + \"\\n\")\n",
    "\n",
    "# Function to deposit money\n",
    "def deposit(account):\n",
    "    amount = float(input(\"Enter the amount to deposit: \"))\n",
    "    if amount <= 0:\n",
    "        print(\"Deposit amount must be positive.\")\n",
    "        return\n",
    "\n",
    "    account[\"balance\"] += amount\n",
    "    Trans = f\"Deposit: ${amount:.2f}. New balance: ${account['balance']:.2f}\"\n",
    "    account[\"Transs\"].append(Trans)\n",
    "    record_Trans(Trans)\n",
    "    print(Trans)\n",
    "\n",
    "# Function to withdraw money\n",
    "def withdraw(account):\n",
    "    amount = float(input(\"Enter the amount to withdraw: \"))\n",
    "    if amount <= 0:\n",
    "        print(\"Withdrawal amount must be positive.\")\n",
    "        return\n",
    "\n",
    "    if account[\"balance\"] < amount:\n",
    "        print(\"Insufficient balance.\")\n",
    "        return\n",
    "\n",
    "    account[\"balance\"] -= amount\n",
    "    Trans = f\"Withdrawal: ${amount:.2f}. New balance: ${account['balance']:.2f}\"\n",
    "    account[\"Transs\"].append(Trans)\n",
    "    record_Trans(Trans)\n",
    "    print(Trans)\n",
    "\n",
    "# Function to check the balance\n",
    "def check_balance(account):\n",
    "    print(f\"Current balance: ${account['balance']:.2f}\")\n",
    "\n",
    "# Function to print the Trans statement\n",
    "def print_statement(account):\n",
    "    if not account[\"Transs\"]:\n",
    "        print(\"No Transs available.\")\n",
    "        return\n",
    "\n",
    "    print(f\"Account statement for {account['name']}:\")\n",
    "    for Trans in account[\"Transs\"]:\n",
    "        print(f\"- {Trans}\")\n",
    "\n",
    "# Main execution flow for user interaction\n",
    "def main():\n",
    "    # Create an account for the user\n",
    "    account = create_account()\n",
    "\n",
    "    while True:\n",
    "        print(\"\\nChoose an option:\")\n",
    "        print(\"1. Deposit Money\")\n",
    "        print(\"2. Withdraw Money\")\n",
    "        print(\"3. Check balance\")\n",
    "        print(\"4. Print Statement\")\n",
    "        print(\"5. Exit\")\n",
    "\n",
    "        choice = input(\"Enter your choice: \")\n",
    "\n",
    "        if choice == \"1\":\n",
    "            deposit(account)\n",
    "        elif choice == \"2\":\n",
    "            withdraw(account)\n",
    "        elif choice == \"3\":\n",
    "            check_balance(account)\n",
    "        elif choice == \"4\":\n",
    "            print_statement(account)\n",
    "        elif choice == \"5\":\n",
    "            print(\"Exiting the program. Have a great day!\")\n",
    "            break\n",
    "        else:\n",
    "            print(\"Invalid choice. Please try again.\")\n",
    "\n",
    "if __name__ == \"__main__\":\n",
    "    # Ensure the Trans file is reset for a fresh start\n",
    "    if os.path.exists(Trans_FILE):\n",
    "        os.remove(Trans_FILE)\n",
    "\n",
    "    main()"
   ]
  },
  {
   "cell_type": "code",
   "execution_count": null,
   "id": "57035718-fef6-4bcf-a7da-4753b3b955e4",
   "metadata": {},
   "outputs": [],
   "source": []
  }
 ],
 "metadata": {
  "kernelspec": {
   "display_name": "Python 3 (ipykernel)",
   "language": "python",
   "name": "python3"
  },
  "language_info": {
   "codemirror_mode": {
    "name": "ipython",
    "version": 3
   },
   "file_extension": ".py",
   "mimetype": "text/x-python",
   "name": "python",
   "nbconvert_exporter": "python",
   "pygments_lexer": "ipython3",
   "version": "3.12.4"
  }
 },
 "nbformat": 4,
 "nbformat_minor": 5
}
